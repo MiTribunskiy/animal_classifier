{
 "cells": [
  {
   "cell_type": "markdown",
   "metadata": {},
   "source": [
    "# Animal Classifier"
   ]
  },
  {
   "cell_type": "markdown",
   "metadata": {},
   "source": [
    "## Loading Deps\n",
    "Which are provided by tensorpad?"
   ]
  },
  {
   "cell_type": "code",
   "execution_count": 1,
   "metadata": {},
   "outputs": [
    {
     "name": "stderr",
     "output_type": "stream",
     "text": [
      "Using TensorFlow backend.\n"
     ]
    }
   ],
   "source": [
    "# Allows access to the file system\n",
    "import os\n",
    "\n",
    "# Provides an API for scientific computing\n",
    "import numpy as np\n",
    "\n",
    "# Allows us to render images and plot data\n",
    "import matplotlib.pyplot as plt\n",
    "\n",
    "# Machine learning framework that provides an abstract API on top of Tensorflow\n",
    "import keras\n",
    "from keras.models import Sequential\n",
    "from keras.layers import Dense, Activation\n",
    "from keras.optimizers import SGD\n",
    "from keras.callbacks import ModelCheckpoint,TensorBoard, EarlyStopping"
   ]
  },
  {
   "cell_type": "markdown",
   "metadata": {},
   "source": [
    "## Load dataset\n",
    "- How to mount dataset\n",
    "- Directory\n",
    "- Y = classes\n",
    "- X = image paths"
   ]
  },
  {
   "cell_type": "code",
   "execution_count": 38,
   "metadata": {},
   "outputs": [],
   "source": [
    "def get_class_labels(dir):\n",
    "    \"\"\"\n",
    "    Gets the name of each directory in the directory.\n",
    "    \n",
    "    dir: Directory which holds directories.\n",
    "    return: An array of the names of the directories in dir.\n",
    "    \"\"\"\n",
    "    \n",
    "    # Get all directories in this directory\n",
    "    classes = os.listdir(dir)\n",
    "    \n",
    "    return classes"
   ]
  },
  {
   "cell_type": "code",
   "execution_count": 39,
   "metadata": {},
   "outputs": [],
   "source": [
    "def get_class_images(classes, dir):\n",
    "    \"\"\"\n",
    "    Gets the paths of all images in each directory.\n",
    "    \n",
    "    classes: Name of each class.\n",
    "    dir: Directory which holds directories.\n",
    "    return: A 2d array of paths organized by class name.\n",
    "    \"\"\"\n",
    "    \n",
    "    # Create an array to hold the image paths of each class\n",
    "    class_paths = np.array([])\n",
    "\n",
    "    # Create image paths of each class\n",
    "    for label in classes:\n",
    "        \n",
    "        # Create an array to hold the image paths of this class (label)\n",
    "        image_paths = np.array([])\n",
    "\n",
    "        # Create the path of this class\n",
    "        class_path = os.path.join(dir, label)\n",
    "\n",
    "        # Get all images in this directory\n",
    "        images = os.listdir(class_path)\n",
    "\n",
    "        # Create the path of each images in this class\n",
    "        for image in images:\n",
    "            \n",
    "            # Create the path of this image\n",
    "            image_path = os.path.join(class_path, image)\n",
    "\n",
    "            # Add the image path to the image paths array\n",
    "            image_paths = np.append(image_paths, image_path)\n",
    "\n",
    "        # Add the image paths to the class paths array\n",
    "        class_paths = np.append(class_paths, image_paths)\n",
    "        \n",
    "    return class_paths"
   ]
  },
  {
   "cell_type": "code",
   "execution_count": 41,
   "metadata": {},
   "outputs": [],
   "source": [
    "# Dataset should be a set of images in a nested structure. \n",
    "# The root directory should hold them all. In the root directory should be several directories.\n",
    "# Each directory should have the name of the class (cat) of images it holds.\n",
    "# In each directory should be images of the same class (cat images).\n",
    "\n",
    "# Crawl the dataset directory and create an array for y, image labels (directory name), \n",
    "# and x, image (image path)\n",
    "root_dir = 'dataset'\n",
    "\n",
    "# Get the name of each directory in the root directory and store them as an array.\n",
    "# These are the classes.\n",
    "classes = get_class_labels(root_dir)\n",
    "\n",
    "# Get the paths of all the images in each class directory and store them as a 2d array.\n",
    "# These are the class images paths.\n",
    "image_paths = get_class_images(classes, root_dir)"
   ]
  },
  {
   "cell_type": "markdown",
   "metadata": {},
   "source": [
    "## Example dataset\n",
    "- Diplay name of all classes\n",
    "- Display at 1 image from each class \n",
    "- with class name"
   ]
  },
  {
   "cell_type": "code",
   "execution_count": 46,
   "metadata": {},
   "outputs": [
    {
     "name": "stdout",
     "output_type": "stream",
     "text": [
      "Classes: ['cat', 'dog']\n",
      "Image Paths: ['dataset/cat/1.jpeg' 'dataset/dog/1.jpeg']\n"
     ]
    }
   ],
   "source": [
    "# Display the name of all the classes\n",
    "print(\"Classes: \" + str(classes))\n",
    "\n",
    "# Display some of the image paths\n",
    "print(\"Image Paths: \" + str(image_paths))"
   ]
  },
  {
   "cell_type": "code",
   "execution_count": 47,
   "metadata": {},
   "outputs": [],
   "source": [
    "# Display an image from each class with the name of the class"
   ]
  },
  {
   "cell_type": "markdown",
   "metadata": {},
   "source": [
    "## Create a model\n",
    "- Use keras\n",
    "- Input = image as [64x64x3]?\n",
    "- Based on VVG16?\n",
    "- Output = [10]"
   ]
  },
  {
   "cell_type": "markdown",
   "metadata": {},
   "source": [
    "## Train model\n",
    "- Use x epochs\n",
    "- Use x batchsize\n",
    "- Save model every 10 epochs\n",
    "- Generate 10 predictions every 10 epochs\n",
    "- Display predicted label and actual"
   ]
  },
  {
   "cell_type": "markdown",
   "metadata": {},
   "source": [
    "## Validate\n",
    "- Show score\n",
    "- Show tensorboard results\n",
    "- Show how to view it"
   ]
  },
  {
   "cell_type": "markdown",
   "metadata": {},
   "source": [
    "## Predict\n",
    "- Make 100 predictions\n",
    "- Display predicted label, actual label, and image"
   ]
  },
  {
   "cell_type": "markdown",
   "metadata": {},
   "source": [
    "## Benchmarks\n",
    "- Training time on desktop\n",
    "- Training time on colab\n",
    "- Training time on tensorpad"
   ]
  }
 ],
 "metadata": {
  "kernelspec": {
   "display_name": "Python 3",
   "language": "python",
   "name": "python3"
  },
  "language_info": {
   "codemirror_mode": {
    "name": "ipython",
    "version": 3
   },
   "file_extension": ".py",
   "mimetype": "text/x-python",
   "name": "python",
   "nbconvert_exporter": "python",
   "pygments_lexer": "ipython3",
   "version": "3.6.6"
  }
 },
 "nbformat": 4,
 "nbformat_minor": 2
}
