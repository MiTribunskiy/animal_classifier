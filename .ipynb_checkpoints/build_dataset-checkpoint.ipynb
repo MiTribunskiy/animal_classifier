{
 "cells": [
  {
   "cell_type": "code",
   "execution_count": null,
   "metadata": {},
   "outputs": [],
   "source": [
    "# instructions here"
   ]
  },
  {
   "cell_type": "code",
   "execution_count": null,
   "metadata": {},
   "outputs": [],
   "source": [
    "import os"
   ]
  },
  {
   "cell_type": "code",
   "execution_count": null,
   "metadata": {},
   "outputs": [],
   "source": [
    "raw_dir = 'dataset/raw'\n",
    "predict_dir = 'dataset/predict'\n",
    "train_dir = 'dataset/train'\n",
    "validate_dir = 'dataset/validate'"
   ]
  },
  {
   "cell_type": "code",
   "execution_count": null,
   "metadata": {},
   "outputs": [],
   "source": [
    "def build_dataset(dir, end, start, target):\n",
    "    classes = os.listdir(dir)\n",
    "    \n",
    "    for label in classes:\n",
    "        sub = os.path.join(dir, label)\n",
    "\n",
    "        if label == '.DS_Store':\n",
    "            os.remove(sub)\n",
    "        else:\n",
    "            images = os.listdir(sub)\n",
    "\n",
    "            if len(images) > target:\n",
    "                for image in images[start:end]:\n",
    "                    os.remove(os.path.join(sub, image))"
   ]
  },
  {
   "cell_type": "code",
   "execution_count": null,
   "metadata": {},
   "outputs": [],
   "source": [
    "# clean raw\n",
    "build_dataset(raw_dir, None, 1000, 1000)"
   ]
  },
  {
   "cell_type": "code",
   "execution_count": null,
   "metadata": {},
   "outputs": [],
   "source": [
    "# clean train\n",
    "build_dataset(train_dir, None, 800, 800)"
   ]
  },
  {
   "cell_type": "code",
   "execution_count": null,
   "metadata": {},
   "outputs": [],
   "source": [
    "# clean train\n",
    "build_dataset(validate_dir, 800, None, 200)"
   ]
  },
  {
   "cell_type": "code",
   "execution_count": null,
   "metadata": {},
   "outputs": [],
   "source": []
  }
 ],
 "metadata": {
  "kernelspec": {
   "display_name": "Python 2",
   "language": "python",
   "name": "python2"
  },
  "language_info": {
   "codemirror_mode": {
    "name": "ipython",
    "version": 2
   },
   "file_extension": ".py",
   "mimetype": "text/x-python",
   "name": "python",
   "nbconvert_exporter": "python",
   "pygments_lexer": "ipython2",
   "version": "2.7.15"
  }
 },
 "nbformat": 4,
 "nbformat_minor": 2
}
